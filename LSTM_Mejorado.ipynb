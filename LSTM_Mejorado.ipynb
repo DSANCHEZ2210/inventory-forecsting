{
 "cells": [
  {
   "cell_type": "code",
   "execution_count": 1,
   "metadata": {},
   "outputs": [],
   "source": [
    "# Librerías básicas\n",
    "import pandas as pd\n",
    "import numpy as np\n",
    "import matplotlib.pyplot as plt"
   ]
  },
  {
   "cell_type": "code",
   "execution_count": 2,
   "metadata": {},
   "outputs": [],
   "source": [
    "# Preprocesamiento y modelos\n",
    "from sklearn.preprocessing import MinMaxScaler, LabelEncoder\n",
    "from sklearn.metrics import mean_absolute_error, mean_squared_error"
   ]
  },
  {
   "cell_type": "code",
   "execution_count": 3,
   "metadata": {},
   "outputs": [],
   "source": [
    "# Deep learning\n",
    "import tensorflow as tf\n",
    "from tensorflow.keras.models import Model\n",
    "from tensorflow.keras.layers import Input, LSTM, Dense, Embedding, Dropout, Concatenate\n",
    "from tensorflow.keras.callbacks import EarlyStopping, ReduceLROnPlateau\n"
   ]
  },
  {
   "cell_type": "code",
   "execution_count": 4,
   "metadata": {},
   "outputs": [],
   "source": [
    "import optuna"
   ]
  },
  {
   "cell_type": "code",
   "execution_count": 5,
   "metadata": {},
   "outputs": [],
   "source": [
    "df = pd.read_excel(\"../DATA/DataHackathon.xlsx\")"
   ]
  },
  {
   "cell_type": "code",
   "execution_count": 6,
   "metadata": {},
   "outputs": [
    {
     "data": {
      "text/html": [
       "<div>\n",
       "<style scoped>\n",
       "    .dataframe tbody tr th:only-of-type {\n",
       "        vertical-align: middle;\n",
       "    }\n",
       "\n",
       "    .dataframe tbody tr th {\n",
       "        vertical-align: top;\n",
       "    }\n",
       "\n",
       "    .dataframe thead th {\n",
       "        text-align: right;\n",
       "    }\n",
       "</style>\n",
       "<table border=\"1\" class=\"dataframe\">\n",
       "  <thead>\n",
       "    <tr style=\"text-align: right;\">\n",
       "      <th></th>\n",
       "      <th>Orden de Venta</th>\n",
       "      <th>Creacion Orden de Venta</th>\n",
       "      <th>Codigo Cliente</th>\n",
       "      <th>Articulo</th>\n",
       "      <th>Cantidad</th>\n",
       "      <th>Unidad de venta</th>\n",
       "    </tr>\n",
       "  </thead>\n",
       "  <tbody>\n",
       "    <tr>\n",
       "      <th>0</th>\n",
       "      <td>ABC063830</td>\n",
       "      <td>2021-01-04</td>\n",
       "      <td>F26E901B</td>\n",
       "      <td>IVP11576</td>\n",
       "      <td>60</td>\n",
       "      <td>L</td>\n",
       "    </tr>\n",
       "    <tr>\n",
       "      <th>1</th>\n",
       "      <td>ABC063832</td>\n",
       "      <td>2021-01-04</td>\n",
       "      <td>12558C43</td>\n",
       "      <td>IVP07229</td>\n",
       "      <td>540</td>\n",
       "      <td>KG</td>\n",
       "    </tr>\n",
       "    <tr>\n",
       "      <th>2</th>\n",
       "      <td>ABC063833</td>\n",
       "      <td>2021-01-04</td>\n",
       "      <td>A760F354</td>\n",
       "      <td>IVP04039</td>\n",
       "      <td>3</td>\n",
       "      <td>PZA</td>\n",
       "    </tr>\n",
       "    <tr>\n",
       "      <th>3</th>\n",
       "      <td>ABC063834</td>\n",
       "      <td>2021-01-04</td>\n",
       "      <td>A760F354</td>\n",
       "      <td>IVP04039</td>\n",
       "      <td>4</td>\n",
       "      <td>PZA</td>\n",
       "    </tr>\n",
       "    <tr>\n",
       "      <th>4</th>\n",
       "      <td>ABC063835</td>\n",
       "      <td>2021-01-04</td>\n",
       "      <td>A760F354</td>\n",
       "      <td>IVP01010</td>\n",
       "      <td>1</td>\n",
       "      <td>PZA</td>\n",
       "    </tr>\n",
       "  </tbody>\n",
       "</table>\n",
       "</div>"
      ],
      "text/plain": [
       "  Orden de Venta Creacion Orden de Venta Codigo Cliente  Articulo  Cantidad  \\\n",
       "0      ABC063830              2021-01-04       F26E901B  IVP11576        60   \n",
       "1      ABC063832              2021-01-04       12558C43  IVP07229       540   \n",
       "2      ABC063833              2021-01-04       A760F354  IVP04039         3   \n",
       "3      ABC063834              2021-01-04       A760F354  IVP04039         4   \n",
       "4      ABC063835              2021-01-04       A760F354  IVP01010         1   \n",
       "\n",
       "  Unidad de venta  \n",
       "0               L  \n",
       "1              KG  \n",
       "2             PZA  \n",
       "3             PZA  \n",
       "4             PZA  "
      ]
     },
     "execution_count": 6,
     "metadata": {},
     "output_type": "execute_result"
    }
   ],
   "source": [
    "df.head()"
   ]
  },
  {
   "cell_type": "code",
   "execution_count": 7,
   "metadata": {},
   "outputs": [],
   "source": [
    "# Filtrar solo los 100 artículos TOP (los que hacen el 90% de las órdenes)\n",
    "articulos_top = df['Articulo'].value_counts().head(100).index.tolist()\n",
    "df_top = df[df['Articulo'].isin(articulos_top)].copy()"
   ]
  },
  {
   "cell_type": "code",
   "execution_count": 8,
   "metadata": {},
   "outputs": [
    {
     "data": {
      "text/html": [
       "<div>\n",
       "<style scoped>\n",
       "    .dataframe tbody tr th:only-of-type {\n",
       "        vertical-align: middle;\n",
       "    }\n",
       "\n",
       "    .dataframe tbody tr th {\n",
       "        vertical-align: top;\n",
       "    }\n",
       "\n",
       "    .dataframe thead th {\n",
       "        text-align: right;\n",
       "    }\n",
       "</style>\n",
       "<table border=\"1\" class=\"dataframe\">\n",
       "  <thead>\n",
       "    <tr style=\"text-align: right;\">\n",
       "      <th></th>\n",
       "      <th>Orden de Venta</th>\n",
       "      <th>Creacion Orden de Venta</th>\n",
       "      <th>Codigo Cliente</th>\n",
       "      <th>Articulo</th>\n",
       "      <th>Cantidad</th>\n",
       "      <th>Unidad de venta</th>\n",
       "    </tr>\n",
       "  </thead>\n",
       "  <tbody>\n",
       "    <tr>\n",
       "      <th>0</th>\n",
       "      <td>ABC063830</td>\n",
       "      <td>2021-01-04</td>\n",
       "      <td>F26E901B</td>\n",
       "      <td>IVP11576</td>\n",
       "      <td>60</td>\n",
       "      <td>L</td>\n",
       "    </tr>\n",
       "    <tr>\n",
       "      <th>1</th>\n",
       "      <td>ABC063832</td>\n",
       "      <td>2021-01-04</td>\n",
       "      <td>12558C43</td>\n",
       "      <td>IVP07229</td>\n",
       "      <td>540</td>\n",
       "      <td>KG</td>\n",
       "    </tr>\n",
       "    <tr>\n",
       "      <th>2</th>\n",
       "      <td>ABC063833</td>\n",
       "      <td>2021-01-04</td>\n",
       "      <td>A760F354</td>\n",
       "      <td>IVP04039</td>\n",
       "      <td>3</td>\n",
       "      <td>PZA</td>\n",
       "    </tr>\n",
       "    <tr>\n",
       "      <th>3</th>\n",
       "      <td>ABC063834</td>\n",
       "      <td>2021-01-04</td>\n",
       "      <td>A760F354</td>\n",
       "      <td>IVP04039</td>\n",
       "      <td>4</td>\n",
       "      <td>PZA</td>\n",
       "    </tr>\n",
       "    <tr>\n",
       "      <th>5</th>\n",
       "      <td>ABC063836</td>\n",
       "      <td>2021-01-04</td>\n",
       "      <td>A760F354</td>\n",
       "      <td>IVP04039</td>\n",
       "      <td>4</td>\n",
       "      <td>PZA</td>\n",
       "    </tr>\n",
       "  </tbody>\n",
       "</table>\n",
       "</div>"
      ],
      "text/plain": [
       "  Orden de Venta Creacion Orden de Venta Codigo Cliente  Articulo  Cantidad  \\\n",
       "0      ABC063830              2021-01-04       F26E901B  IVP11576        60   \n",
       "1      ABC063832              2021-01-04       12558C43  IVP07229       540   \n",
       "2      ABC063833              2021-01-04       A760F354  IVP04039         3   \n",
       "3      ABC063834              2021-01-04       A760F354  IVP04039         4   \n",
       "5      ABC063836              2021-01-04       A760F354  IVP04039         4   \n",
       "\n",
       "  Unidad de venta  \n",
       "0               L  \n",
       "1              KG  \n",
       "2             PZA  \n",
       "3             PZA  \n",
       "5             PZA  "
      ]
     },
     "execution_count": 8,
     "metadata": {},
     "output_type": "execute_result"
    }
   ],
   "source": [
    "df_top.head()"
   ]
  },
  {
   "cell_type": "code",
   "execution_count": 9,
   "metadata": {},
   "outputs": [],
   "source": [
    "# ===========================\n",
    "# 2. Preprocesamiento\n",
    "# ===========================\n",
    "le_articulo = LabelEncoder()\n",
    "df_top['Articulo_encoded'] = le_articulo.fit_transform(df_top['Articulo'])"
   ]
  },
  {
   "cell_type": "code",
   "execution_count": 10,
   "metadata": {},
   "outputs": [],
   "source": [
    "# Features temporales\n",
    "df_top['Mes'] = df_top['Creacion Orden de Venta'].dt.month\n",
    "df_top['Dia'] = df_top['Creacion Orden de Venta'].dt.day\n",
    "df_top['Dia_Semana'] = df_top['Creacion Orden de Venta'].dt.dayofweek"
   ]
  },
  {
   "cell_type": "code",
   "execution_count": 11,
   "metadata": {},
   "outputs": [],
   "source": [
    "# Normalizamos la cantidad\n",
    "scaler = MinMaxScaler()\n",
    "df_top['Cantidad_scaled'] = scaler.fit_transform(df_top[['Cantidad']])"
   ]
  },
  {
   "cell_type": "code",
   "execution_count": 51,
   "metadata": {},
   "outputs": [],
   "source": [
    "# ===========================\n",
    "# 3. Función para generar secuencias\n",
    "# ===========================\n",
    "def crear_secuencias(df, articulo_id, sequence_length=1015):\n",
    "    df_art = df[df['Articulo_encoded'] == articulo_id].sort_values('Creacion Orden de Venta')\n",
    "    sequences, features, targets = [], [], []\n",
    "    \n",
    "    data_qty = df_art['Cantidad_scaled'].values\n",
    "    data_dates = df_art[['Mes', 'Dia', 'Dia_Semana']].values\n",
    "    \n",
    "    if len(data_qty) < sequence_length:\n",
    "        return None, None, None\n",
    "\n",
    "    for i in range(len(data_qty) - sequence_length):\n",
    "        seq_qty = data_qty[i:i+sequence_length]\n",
    "        seq_date = data_dates[i+sequence_length]\n",
    "        seq_target = data_qty[i+sequence_length]\n",
    "        \n",
    "        sequences.append(seq_qty)\n",
    "        features.append(seq_date)\n",
    "        targets.append(seq_target)\n",
    "        \n",
    "    articulo_array = np.full((len(sequences), 1), articulo_id)\n",
    "    \n",
    "    return [np.array(sequences), np.array(features), articulo_array], np.array(targets)"
   ]
  },
  {
   "cell_type": "code",
   "execution_count": 52,
   "metadata": {},
   "outputs": [],
   "source": [
    "# ===========================\n",
    "# 4. Crear el modelo LSTM mejorado\n",
    "# ===========================\n",
    "def crear_modelo(sequence_length, num_articulos, embedding_size=8, lstm_units=64, dropout_rate=0.2):\n",
    "    # Entradas\n",
    "    input_qty = Input(shape=(sequence_length,))\n",
    "    input_fecha = Input(shape=(3,))\n",
    "    input_articulo = Input(shape=(1,))\n",
    "    \n",
    "    # Embedding artículo\n",
    "    articulo_emb = Embedding(input_dim=num_articulos, output_dim=embedding_size)(input_articulo)\n",
    "    articulo_emb_flat = tf.keras.layers.Flatten()(articulo_emb)\n",
    "    \n",
    "    # LSTM secuencia cantidades\n",
    "    x_qty = tf.keras.layers.Reshape((sequence_length, 1))(input_qty)\n",
    "    lstm_out = LSTM(lstm_units)(x_qty)\n",
    "    \n",
    "    # Concatenar todo\n",
    "    concat = Concatenate()([lstm_out, articulo_emb_flat, input_fecha])\n",
    "    \n",
    "    dense1 = Dense(64, activation='relu')(concat)\n",
    "    drop1 = Dropout(dropout_rate)(dense1)\n",
    "    output = Dense(1, activation='linear')(drop1)\n",
    "    \n",
    "    model = Model(inputs=[input_qty, input_fecha, input_articulo], outputs=output)\n",
    "    model.compile(optimizer='adam', loss='mse')\n",
    "    \n",
    "    return model"
   ]
  },
  {
   "cell_type": "code",
   "execution_count": 53,
   "metadata": {},
   "outputs": [],
   "source": [
    "# ===========================\n",
    "# 5. Optimización de hiperparámetros con Optuna\n",
    "# ===========================\n",
    "def objective(trial):\n",
    "    embedding_size = trial.suggest_int('embedding_size', 4, 16)\n",
    "    lstm_units = trial.suggest_int('lstm_units', 32, 128)\n",
    "    dropout_rate = trial.suggest_float('dropout_rate', 0.1, 0.5)\n",
    "    sequence_length = trial.suggest_int('sequence_length', 30, 90)\n",
    "    \n",
    "    X, y = crear_secuencias(df_top, articulo_id=0, sequence_length=sequence_length)\n",
    "    if X is None:\n",
    "        return float('inf')\n",
    "    \n",
    "    model = crear_modelo(sequence_length, num_articulos=100, embedding_size=embedding_size, lstm_units=lstm_units, dropout_rate=dropout_rate)\n",
    "    \n",
    "    history = model.fit(X, y, epochs=10, batch_size=16, verbose=0)\n",
    "    \n",
    "    loss = history.history['loss'][-1]\n",
    "    return loss"
   ]
  },
  {
   "cell_type": "code",
   "execution_count": 54,
   "metadata": {},
   "outputs": [],
   "source": [
    "best_params = {\n",
    "    'embedding_size': 8,\n",
    "    'lstm_units': 64,\n",
    "    'dropout_rate': 0.2,\n",
    "    'sequence_length': 60\n",
    "}\n",
    "\n",
    "model = crear_modelo(best_params['sequence_length'], num_articulos=100, \n",
    "                     embedding_size=best_params['embedding_size'], \n",
    "                     lstm_units=best_params['lstm_units'], \n",
    "                     dropout_rate=best_params['dropout_rate'])\n",
    "\n"
   ]
  },
  {
   "cell_type": "code",
   "execution_count": 55,
   "metadata": {},
   "outputs": [
    {
     "name": "stdout",
     "output_type": "stream",
     "text": [
      "Epoch 1/30\n"
     ]
    },
    {
     "name": "stdout",
     "output_type": "stream",
     "text": [
      "\u001b[1m9/9\u001b[0m \u001b[32m━━━━━━━━━━━━━━━━━━━━\u001b[0m\u001b[37m\u001b[0m \u001b[1m1s\u001b[0m 32ms/step - loss: 2.2625 - val_loss: 0.3427 - learning_rate: 0.0010\n",
      "Epoch 2/30\n",
      "\u001b[1m9/9\u001b[0m \u001b[32m━━━━━━━━━━━━━━━━━━━━\u001b[0m\u001b[37m\u001b[0m \u001b[1m0s\u001b[0m 14ms/step - loss: 1.5089 - val_loss: 0.0455 - learning_rate: 0.0010\n",
      "Epoch 3/30\n",
      "\u001b[1m9/9\u001b[0m \u001b[32m━━━━━━━━━━━━━━━━━━━━\u001b[0m\u001b[37m\u001b[0m \u001b[1m0s\u001b[0m 14ms/step - loss: 1.2868 - val_loss: 0.0472 - learning_rate: 0.0010\n",
      "Epoch 4/30\n",
      "\u001b[1m9/9\u001b[0m \u001b[32m━━━━━━━━━━━━━━━━━━━━\u001b[0m\u001b[37m\u001b[0m \u001b[1m0s\u001b[0m 14ms/step - loss: 1.3823 - val_loss: 0.1286 - learning_rate: 0.0010\n",
      "Epoch 5/30\n",
      "\u001b[1m9/9\u001b[0m \u001b[32m━━━━━━━━━━━━━━━━━━━━\u001b[0m\u001b[37m\u001b[0m \u001b[1m0s\u001b[0m 14ms/step - loss: 1.2483 - val_loss: 0.0534 - learning_rate: 0.0010\n",
      "Epoch 6/30\n",
      "\u001b[1m9/9\u001b[0m \u001b[32m━━━━━━━━━━━━━━━━━━━━\u001b[0m\u001b[37m\u001b[0m \u001b[1m0s\u001b[0m 14ms/step - loss: 0.8329 - val_loss: 0.0384 - learning_rate: 1.0000e-04\n",
      "Epoch 7/30\n",
      "\u001b[1m9/9\u001b[0m \u001b[32m━━━━━━━━━━━━━━━━━━━━\u001b[0m\u001b[37m\u001b[0m \u001b[1m0s\u001b[0m 14ms/step - loss: 0.7430 - val_loss: 0.0168 - learning_rate: 1.0000e-04\n",
      "Epoch 8/30\n",
      "\u001b[1m9/9\u001b[0m \u001b[32m━━━━━━━━━━━━━━━━━━━━\u001b[0m\u001b[37m\u001b[0m \u001b[1m0s\u001b[0m 14ms/step - loss: 0.7199 - val_loss: 0.0151 - learning_rate: 1.0000e-04\n",
      "Epoch 9/30\n",
      "\u001b[1m9/9\u001b[0m \u001b[32m━━━━━━━━━━━━━━━━━━━━\u001b[0m\u001b[37m\u001b[0m \u001b[1m0s\u001b[0m 14ms/step - loss: 0.7386 - val_loss: 0.0129 - learning_rate: 1.0000e-04\n",
      "Epoch 10/30\n",
      "\u001b[1m9/9\u001b[0m \u001b[32m━━━━━━━━━━━━━━━━━━━━\u001b[0m\u001b[37m\u001b[0m \u001b[1m0s\u001b[0m 14ms/step - loss: 0.6976 - val_loss: 0.0140 - learning_rate: 1.0000e-04\n",
      "Epoch 11/30\n",
      "\u001b[1m9/9\u001b[0m \u001b[32m━━━━━━━━━━━━━━━━━━━━\u001b[0m\u001b[37m\u001b[0m \u001b[1m0s\u001b[0m 14ms/step - loss: 0.5985 - val_loss: 0.0204 - learning_rate: 1.0000e-04\n",
      "Epoch 12/30\n",
      "\u001b[1m9/9\u001b[0m \u001b[32m━━━━━━━━━━━━━━━━━━━━\u001b[0m\u001b[37m\u001b[0m \u001b[1m0s\u001b[0m 14ms/step - loss: 0.4706 - val_loss: 0.0225 - learning_rate: 1.0000e-04\n",
      "Epoch 13/30\n",
      "\u001b[1m9/9\u001b[0m \u001b[32m━━━━━━━━━━━━━━━━━━━━\u001b[0m\u001b[37m\u001b[0m \u001b[1m0s\u001b[0m 14ms/step - loss: 0.4913 - val_loss: 0.0216 - learning_rate: 1.0000e-05\n",
      "Epoch 14/30\n",
      "\u001b[1m9/9\u001b[0m \u001b[32m━━━━━━━━━━━━━━━━━━━━\u001b[0m\u001b[37m\u001b[0m \u001b[1m0s\u001b[0m 14ms/step - loss: 0.4359 - val_loss: 0.0209 - learning_rate: 1.0000e-05\n"
     ]
    },
    {
     "data": {
      "text/plain": [
       "<keras.src.callbacks.history.History at 0x219c60472f0>"
      ]
     },
     "execution_count": 55,
     "metadata": {},
     "output_type": "execute_result"
    }
   ],
   "source": [
    "# ===========================\n",
    "# 7. Seleccionar el artículo por nombre\n",
    "# ===========================\n",
    "articulo_nombre = \"IVP11576\"  # Cambia aquí el nombre del artículo que quieras analizar\n",
    "articulo_id = le_articulo.transform([articulo_nombre])[0]\n",
    "\n",
    "# Entrenamiento del modelo sobre el artículo seleccionado\n",
    "X, y = crear_secuencias(df_top, articulo_id=articulo_id, sequence_length=best_params['sequence_length'])\n",
    "model.fit(X, y, epochs=30, batch_size=16, validation_split=0.2, callbacks=[\n",
    "    EarlyStopping(patience=5, restore_best_weights=True),\n",
    "    ReduceLROnPlateau(patience=3)\n",
    "])\n"
   ]
  },
  {
   "cell_type": "code",
   "execution_count": 56,
   "metadata": {},
   "outputs": [
    {
     "name": "stdout",
     "output_type": "stream",
     "text": [
      "\u001b[1m6/6\u001b[0m \u001b[32m━━━━━━━━━━━━━━━━━━━━\u001b[0m\u001b[37m\u001b[0m \u001b[1m0s\u001b[0m 25ms/step\n",
      "MAE del entrenamiento: 0.1284, MSE del entrenamiento: 0.0283\n"
     ]
    }
   ],
   "source": [
    "# ===========================\n",
    "# 8. Métricas de evaluación\n",
    "# ===========================\n",
    "predicciones_train = model.predict(X)\n",
    "mae_train = mean_absolute_error(y, predicciones_train)\n",
    "mse_train = mean_squared_error(y, predicciones_train)\n",
    "print(f\"MAE del entrenamiento: {mae_train:.4f}, MSE del entrenamiento: {mse_train:.4f}\")\n"
   ]
  },
  {
   "cell_type": "code",
   "execution_count": 57,
   "metadata": {},
   "outputs": [
    {
     "name": "stdout",
     "output_type": "stream",
     "text": [
      "\u001b[1m1/1\u001b[0m \u001b[32m━━━━━━━━━━━━━━━━━━━━\u001b[0m\u001b[37m\u001b[0m \u001b[1m0s\u001b[0m 120ms/step\n",
      "\u001b[1m1/1\u001b[0m \u001b[32m━━━━━━━━━━━━━━━━━━━━\u001b[0m\u001b[37m\u001b[0m \u001b[1m0s\u001b[0m 28ms/step\n",
      "\u001b[1m1/1\u001b[0m \u001b[32m━━━━━━━━━━━━━━━━━━━━\u001b[0m\u001b[37m\u001b[0m \u001b[1m0s\u001b[0m 25ms/step\n",
      "\u001b[1m1/1\u001b[0m \u001b[32m━━━━━━━━━━━━━━━━━━━━\u001b[0m\u001b[37m\u001b[0m \u001b[1m0s\u001b[0m 26ms/step\n",
      "\u001b[1m1/1\u001b[0m \u001b[32m━━━━━━━━━━━━━━━━━━━━\u001b[0m\u001b[37m\u001b[0m \u001b[1m0s\u001b[0m 25ms/step\n",
      "\u001b[1m1/1\u001b[0m \u001b[32m━━━━━━━━━━━━━━━━━━━━\u001b[0m\u001b[37m\u001b[0m \u001b[1m0s\u001b[0m 25ms/step\n",
      "\u001b[1m1/1\u001b[0m \u001b[32m━━━━━━━━━━━━━━━━━━━━\u001b[0m\u001b[37m\u001b[0m \u001b[1m0s\u001b[0m 26ms/step\n",
      "\u001b[1m1/1\u001b[0m \u001b[32m━━━━━━━━━━━━━━━━━━━━\u001b[0m\u001b[37m\u001b[0m \u001b[1m0s\u001b[0m 27ms/step\n",
      "\u001b[1m1/1\u001b[0m \u001b[32m━━━━━━━━━━━━━━━━━━━━\u001b[0m\u001b[37m\u001b[0m \u001b[1m0s\u001b[0m 26ms/step\n",
      "\u001b[1m1/1\u001b[0m \u001b[32m━━━━━━━━━━━━━━━━━━━━\u001b[0m\u001b[37m\u001b[0m \u001b[1m0s\u001b[0m 27ms/step\n",
      "\u001b[1m1/1\u001b[0m \u001b[32m━━━━━━━━━━━━━━━━━━━━\u001b[0m\u001b[37m\u001b[0m \u001b[1m0s\u001b[0m 26ms/step\n",
      "\u001b[1m1/1\u001b[0m \u001b[32m━━━━━━━━━━━━━━━━━━━━\u001b[0m\u001b[37m\u001b[0m \u001b[1m0s\u001b[0m 25ms/step\n",
      "\u001b[1m1/1\u001b[0m \u001b[32m━━━━━━━━━━━━━━━━━━━━\u001b[0m\u001b[37m\u001b[0m \u001b[1m0s\u001b[0m 29ms/step\n",
      "\u001b[1m1/1\u001b[0m \u001b[32m━━━━━━━━━━━━━━━━━━━━\u001b[0m\u001b[37m\u001b[0m \u001b[1m0s\u001b[0m 25ms/step\n",
      "\u001b[1m1/1\u001b[0m \u001b[32m━━━━━━━━━━━━━━━━━━━━\u001b[0m\u001b[37m\u001b[0m \u001b[1m0s\u001b[0m 24ms/step\n",
      "\u001b[1m1/1\u001b[0m \u001b[32m━━━━━━━━━━━━━━━━━━━━\u001b[0m\u001b[37m\u001b[0m \u001b[1m0s\u001b[0m 26ms/step\n",
      "\u001b[1m1/1\u001b[0m \u001b[32m━━━━━━━━━━━━━━━━━━━━\u001b[0m\u001b[37m\u001b[0m \u001b[1m0s\u001b[0m 26ms/step\n",
      "\u001b[1m1/1\u001b[0m \u001b[32m━━━━━━━━━━━━━━━━━━━━\u001b[0m\u001b[37m\u001b[0m \u001b[1m0s\u001b[0m 26ms/step\n",
      "\u001b[1m1/1\u001b[0m \u001b[32m━━━━━━━━━━━━━━━━━━━━\u001b[0m\u001b[37m\u001b[0m \u001b[1m0s\u001b[0m 26ms/step\n",
      "\u001b[1m1/1\u001b[0m \u001b[32m━━━━━━━━━━━━━━━━━━━━\u001b[0m\u001b[37m\u001b[0m \u001b[1m0s\u001b[0m 26ms/step\n",
      "\u001b[1m1/1\u001b[0m \u001b[32m━━━━━━━━━━━━━━━━━━━━\u001b[0m\u001b[37m\u001b[0m \u001b[1m0s\u001b[0m 27ms/step\n",
      "\u001b[1m1/1\u001b[0m \u001b[32m━━━━━━━━━━━━━━━━━━━━\u001b[0m\u001b[37m\u001b[0m \u001b[1m0s\u001b[0m 25ms/step\n",
      "\u001b[1m1/1\u001b[0m \u001b[32m━━━━━━━━━━━━━━━━━━━━\u001b[0m\u001b[37m\u001b[0m \u001b[1m0s\u001b[0m 26ms/step\n",
      "\u001b[1m1/1\u001b[0m \u001b[32m━━━━━━━━━━━━━━━━━━━━\u001b[0m\u001b[37m\u001b[0m \u001b[1m0s\u001b[0m 26ms/step\n",
      "\u001b[1m1/1\u001b[0m \u001b[32m━━━━━━━━━━━━━━━━━━━━\u001b[0m\u001b[37m\u001b[0m \u001b[1m0s\u001b[0m 28ms/step\n",
      "\u001b[1m1/1\u001b[0m \u001b[32m━━━━━━━━━━━━━━━━━━━━\u001b[0m\u001b[37m\u001b[0m \u001b[1m0s\u001b[0m 25ms/step\n",
      "\u001b[1m1/1\u001b[0m \u001b[32m━━━━━━━━━━━━━━━━━━━━\u001b[0m\u001b[37m\u001b[0m \u001b[1m0s\u001b[0m 26ms/step\n",
      "\u001b[1m1/1\u001b[0m \u001b[32m━━━━━━━━━━━━━━━━━━━━\u001b[0m\u001b[37m\u001b[0m \u001b[1m0s\u001b[0m 25ms/step\n",
      "\u001b[1m1/1\u001b[0m \u001b[32m━━━━━━━━━━━━━━━━━━━━\u001b[0m\u001b[37m\u001b[0m \u001b[1m0s\u001b[0m 25ms/step\n",
      "\u001b[1m1/1\u001b[0m \u001b[32m━━━━━━━━━━━━━━━━━━━━\u001b[0m\u001b[37m\u001b[0m \u001b[1m0s\u001b[0m 24ms/step\n",
      "\u001b[1m1/1\u001b[0m \u001b[32m━━━━━━━━━━━━━━━━━━━━\u001b[0m\u001b[37m\u001b[0m \u001b[1m0s\u001b[0m 27ms/step\n"
     ]
    }
   ],
   "source": [
    "# ===========================\n",
    "# 9. Predicción del siguiente mes (31 días)\n",
    "# ===========================\n",
    "ultima_secuencia = X[0][-1].reshape(1, best_params['sequence_length'])\n",
    "fecha_base = df_top[df_top['Articulo_encoded'] == articulo_id]['Creacion Orden de Venta'].max()\n",
    "\n",
    "predicciones_futuras = []\n",
    "\n",
    "for i in range(31):\n",
    "    mes = (fecha_base + pd.Timedelta(days=i+1)).month\n",
    "    dia = (fecha_base + pd.Timedelta(days=i+1)).day\n",
    "    dia_semana = (fecha_base + pd.Timedelta(days=i+1)).dayofweek\n",
    "    \n",
    "    input_fecha = np.array([[mes, dia, dia_semana]])\n",
    "    input_articulo = np.array([[articulo_id]])\n",
    "    \n",
    "    pred = model.predict([ultima_secuencia, input_fecha, input_articulo])\n",
    "    predicciones_futuras.append(pred[0][0])\n",
    "    \n",
    "    # Actualizar la secuencia para el próximo día\n",
    "    nueva_secuencia = np.append(ultima_secuencia.flatten()[1:], pred[0][0])\n",
    "    ultima_secuencia = nueva_secuencia.reshape(1, best_params['sequence_length'])\n",
    "\n",
    "# Desnormalizar\n",
    "predicciones_futuras = scaler.inverse_transform(np.array(predicciones_futuras).reshape(-1, 1))\n",
    "\n",
    "\n"
   ]
  },
  {
   "cell_type": "code",
   "execution_count": 58,
   "metadata": {},
   "outputs": [
    {
     "name": "stdout",
     "output_type": "stream",
     "text": [
      "Cantidad total predicha para el próximo mes (IVP11576): 10912.59 unidades\n"
     ]
    }
   ],
   "source": [
    "# ===========================\n",
    "# 10. Cantidad total predicha para el próximo mes\n",
    "# ===========================\n",
    "cantidad_total_mes = np.sum(predicciones_futuras)\n",
    "print(f\"Cantidad total predicha para el próximo mes ({articulo_nombre}): {cantidad_total_mes:.2f} unidades\")"
   ]
  },
  {
   "cell_type": "code",
   "execution_count": 59,
   "metadata": {},
   "outputs": [
    {
     "data": {
      "image/png": "[encoded data removed]",
      "text/plain": [
       "<Figure size 1200x600 with 1 Axes>"
      ]
     },
     "metadata": {},
     "output_type": "display_data"
    }
   ],
   "source": [
    "# ===========================\n",
    "# 11. Gráfica de predicciones futuras\n",
    "# ===========================\n",
    "plt.figure(figsize=(12, 6))\n",
    "plt.plot(range(1, 32), predicciones_futuras, marker='o', label='Predicción Futuro LSTM')\n",
    "plt.title(f'Predicción de demanda futura - Próximo mes - {articulo_nombre}')\n",
    "plt.xlabel('Días en el futuro')\n",
    "plt.ylabel('Cantidad')\n",
    "plt.legend()\n",
    "plt.grid(True)\n",
    "plt.show()\n"
   ]
  },
  {
   "cell_type": "code",
   "execution_count": null,
   "metadata": {},
   "outputs": [],
   "source": []
  }
 ],
 "metadata": {
  "kernelspec": {
   "display_name": "daniel",
   "language": "python",
   "name": "python3"
  },
  "language_info": {
   "codemirror_mode": {
    "name": "ipython",
    "version": 3
   },
   "file_extension": ".py",
   "mimetype": "text/x-python",
   "name": "python",
   "nbconvert_exporter": "python",
   "pygments_lexer": "ipython3",
   "version": "3.12.9"
  }
 },
 "nbformat": 4,
 "nbformat_minor": 2
}
