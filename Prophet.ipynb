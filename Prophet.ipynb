{
 "cells": [
  {
   "cell_type": "code",
   "execution_count": 1,
   "metadata": {},
   "outputs": [],
   "source": [
    "import pandas as pd\n",
    "from prophet import Prophet\n",
    "import matplotlib.pyplot as plt"
   ]
  },
  {
   "cell_type": "code",
   "execution_count": 2,
   "metadata": {},
   "outputs": [],
   "source": [
    "df = pd.read_excel(\"../DATA/DataHackathon.xlsx\")"
   ]
  },
  {
   "cell_type": "code",
   "execution_count": 3,
   "metadata": {},
   "outputs": [
    {
     "data": {
      "text/html": [
       "<div>\n",
       "<style scoped>\n",
       "    .dataframe tbody tr th:only-of-type {\n",
       "        vertical-align: middle;\n",
       "    }\n",
       "\n",
       "    .dataframe tbody tr th {\n",
       "        vertical-align: top;\n",
       "    }\n",
       "\n",
       "    .dataframe thead th {\n",
       "        text-align: right;\n",
       "    }\n",
       "</style>\n",
       "<table border=\"1\" class=\"dataframe\">\n",
       "  <thead>\n",
       "    <tr style=\"text-align: right;\">\n",
       "      <th></th>\n",
       "      <th>Orden de Venta</th>\n",
       "      <th>Creacion Orden de Venta</th>\n",
       "      <th>Codigo Cliente</th>\n",
       "      <th>Articulo</th>\n",
       "      <th>Cantidad</th>\n",
       "      <th>Unidad de venta</th>\n",
       "    </tr>\n",
       "  </thead>\n",
       "  <tbody>\n",
       "    <tr>\n",
       "      <th>0</th>\n",
       "      <td>ABC063830</td>\n",
       "      <td>2021-01-04</td>\n",
       "      <td>F26E901B</td>\n",
       "      <td>IVP11576</td>\n",
       "      <td>60</td>\n",
       "      <td>L</td>\n",
       "    </tr>\n",
       "    <tr>\n",
       "      <th>1</th>\n",
       "      <td>ABC063832</td>\n",
       "      <td>2021-01-04</td>\n",
       "      <td>12558C43</td>\n",
       "      <td>IVP07229</td>\n",
       "      <td>540</td>\n",
       "      <td>KG</td>\n",
       "    </tr>\n",
       "    <tr>\n",
       "      <th>2</th>\n",
       "      <td>ABC063833</td>\n",
       "      <td>2021-01-04</td>\n",
       "      <td>A760F354</td>\n",
       "      <td>IVP04039</td>\n",
       "      <td>3</td>\n",
       "      <td>PZA</td>\n",
       "    </tr>\n",
       "    <tr>\n",
       "      <th>3</th>\n",
       "      <td>ABC063834</td>\n",
       "      <td>2021-01-04</td>\n",
       "      <td>A760F354</td>\n",
       "      <td>IVP04039</td>\n",
       "      <td>4</td>\n",
       "      <td>PZA</td>\n",
       "    </tr>\n",
       "    <tr>\n",
       "      <th>4</th>\n",
       "      <td>ABC063835</td>\n",
       "      <td>2021-01-04</td>\n",
       "      <td>A760F354</td>\n",
       "      <td>IVP01010</td>\n",
       "      <td>1</td>\n",
       "      <td>PZA</td>\n",
       "    </tr>\n",
       "  </tbody>\n",
       "</table>\n",
       "</div>"
      ],
      "text/plain": [
       "  Orden de Venta Creacion Orden de Venta Codigo Cliente  Articulo  Cantidad  \\\n",
       "0      ABC063830              2021-01-04       F26E901B  IVP11576        60   \n",
       "1      ABC063832              2021-01-04       12558C43  IVP07229       540   \n",
       "2      ABC063833              2021-01-04       A760F354  IVP04039         3   \n",
       "3      ABC063834              2021-01-04       A760F354  IVP04039         4   \n",
       "4      ABC063835              2021-01-04       A760F354  IVP01010         1   \n",
       "\n",
       "  Unidad de venta  \n",
       "0               L  \n",
       "1              KG  \n",
       "2             PZA  \n",
       "3             PZA  \n",
       "4             PZA  "
      ]
     },
     "execution_count": 3,
     "metadata": {},
     "output_type": "execute_result"
    }
   ],
   "source": [
    "df.head()"
   ]
  },
  {
   "cell_type": "code",
   "execution_count": 4,
   "metadata": {},
   "outputs": [],
   "source": [
    "articulo_nombre = \"IVP11576\"\n",
    "df_articulo = df[df['Articulo'] == articulo_nombre].copy()\n"
   ]
  },
  {
   "cell_type": "code",
   "execution_count": 5,
   "metadata": {},
   "outputs": [],
   "source": [
    "df_agrupado = df_articulo.groupby('Creacion Orden de Venta')['Cantidad'].sum().reset_index()\n"
   ]
  },
  {
   "cell_type": "code",
   "execution_count": 6,
   "metadata": {},
   "outputs": [],
   "source": [
    "df_agrupado.rename(columns={'Creacion Orden de Venta': 'ds', 'Cantidad': 'y'}, inplace=True)"
   ]
  },
  {
   "cell_type": "code",
   "execution_count": null,
   "metadata": {},
   "outputs": [
    {
     "ename": "AttributeError",
     "evalue": "'Prophet' object has no attribute 'stan_backend'",
     "output_type": "error",
     "traceback": [
      "\u001b[31m---------------------------------------------------------------------------\u001b[39m",
      "\u001b[31mAttributeError\u001b[39m                            Traceback (most recent call last)",
      "\u001b[36mCell\u001b[39m\u001b[36m \u001b[39m\u001b[32mIn[7]\u001b[39m\u001b[32m, line 1\u001b[39m\n\u001b[32m----> \u001b[39m\u001b[32m1\u001b[39m model = \u001b[43mProphet\u001b[49m\u001b[43m(\u001b[49m\n\u001b[32m      2\u001b[39m \u001b[43m    \u001b[49m\u001b[43myearly_seasonality\u001b[49m\u001b[43m=\u001b[49m\u001b[38;5;28;43;01mTrue\u001b[39;49;00m\u001b[43m,\u001b[49m\n\u001b[32m      3\u001b[39m \u001b[43m    \u001b[49m\u001b[43mweekly_seasonality\u001b[49m\u001b[43m=\u001b[49m\u001b[38;5;28;43;01mTrue\u001b[39;49;00m\u001b[43m,\u001b[49m\n\u001b[32m      4\u001b[39m \u001b[43m    \u001b[49m\u001b[43mdaily_seasonality\u001b[49m\u001b[43m=\u001b[49m\u001b[38;5;28;43;01mFalse\u001b[39;49;00m\n\u001b[32m      5\u001b[39m \u001b[43m)\u001b[49m\n",
      "\u001b[36mFile \u001b[39m\u001b[32mc:\\Users\\danis\\anaconda3\\envs\\daniel\\Lib\\site-packages\\prophet\\forecaster.py:155\u001b[39m, in \u001b[36mProphet.__init__\u001b[39m\u001b[34m(self, growth, changepoints, n_changepoints, changepoint_range, yearly_seasonality, weekly_seasonality, daily_seasonality, holidays, seasonality_mode, seasonality_prior_scale, holidays_prior_scale, changepoint_prior_scale, mcmc_samples, interval_width, uncertainty_samples, stan_backend, scaling, holidays_mode)\u001b[39m\n\u001b[32m    153\u001b[39m \u001b[38;5;28mself\u001b[39m.fit_kwargs = {}\n\u001b[32m    154\u001b[39m \u001b[38;5;28mself\u001b[39m.validate_inputs()\n\u001b[32m--> \u001b[39m\u001b[32m155\u001b[39m \u001b[38;5;28;43mself\u001b[39;49m\u001b[43m.\u001b[49m\u001b[43m_load_stan_backend\u001b[49m\u001b[43m(\u001b[49m\u001b[43mstan_backend\u001b[49m\u001b[43m)\u001b[49m\n",
      "\u001b[36mFile \u001b[39m\u001b[32mc:\\Users\\danis\\anaconda3\\envs\\daniel\\Lib\\site-packages\\prophet\\forecaster.py:168\u001b[39m, in \u001b[36mProphet._load_stan_backend\u001b[39m\u001b[34m(self, stan_backend)\u001b[39m\n\u001b[32m    165\u001b[39m \u001b[38;5;28;01melse\u001b[39;00m:\n\u001b[32m    166\u001b[39m     \u001b[38;5;28mself\u001b[39m.stan_backend = StanBackendEnum.get_backend_class(stan_backend)()\n\u001b[32m--> \u001b[39m\u001b[32m168\u001b[39m logger.debug(\u001b[33m\"\u001b[39m\u001b[33mLoaded stan backend: \u001b[39m\u001b[38;5;132;01m%s\u001b[39;00m\u001b[33m\"\u001b[39m, \u001b[38;5;28;43mself\u001b[39;49m\u001b[43m.\u001b[49m\u001b[43mstan_backend\u001b[49m.get_type())\n",
      "\u001b[31mAttributeError\u001b[39m: 'Prophet' object has no attribute 'stan_backend'"
     ]
    }
   ],
   "source": [
    "model = Prophet(\n",
    "    yearly_seasonality=True,\n",
    "    weekly_seasonality=True,\n",
    "    daily_seasonality=False\n",
    ")                       "
   ]
  },
  {
   "cell_type": "code",
   "execution_count": null,
   "metadata": {},
   "outputs": [],
   "source": []
  }
 ],
 "metadata": {
  "kernelspec": {
   "display_name": "daniel",
   "language": "python",
   "name": "python3"
  },
  "language_info": {
   "codemirror_mode": {
    "name": "ipython",
    "version": 3
   },
   "file_extension": ".py",
   "mimetype": "text/x-python",
   "name": "python",
   "nbconvert_exporter": "python",
   "pygments_lexer": "ipython3",
   "version": "3.12.9"
  }
 },
 "nbformat": 4,
 "nbformat_minor": 2
}
